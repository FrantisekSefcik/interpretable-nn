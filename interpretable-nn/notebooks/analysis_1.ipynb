{
 "cells": [
  {
   "cell_type": "markdown",
   "metadata": {},
   "source": [
    "# Data analysis"
   ]
  },
  {
   "cell_type": "code",
   "execution_count": 3,
   "metadata": {},
   "outputs": [],
   "source": [
    "import numpy as np\n",
    "import SimpleITK as sitk\n",
    "import pandas as pd\n",
    "import os\n",
    "import matplotlib.pyplot as plt"
   ]
  },
  {
   "cell_type": "code",
   "execution_count": 45,
   "metadata": {},
   "outputs": [],
   "source": [
    "train_directory = '../data/Brats17TrainingData/'\n",
    "valid_directory = '../data/Brats17ValidationData/'\n",
    "test_directory = '../data/Brats17TestingData/'"
   ]
  },
  {
   "cell_type": "markdown",
   "metadata": {},
   "source": [
    "### Supplementary dataset"
   ]
  },
  {
   "cell_type": "code",
   "execution_count": 41,
   "metadata": {},
   "outputs": [
    {
     "data": {
      "text/html": [
       "<div>\n",
       "<style scoped>\n",
       "    .dataframe tbody tr th:only-of-type {\n",
       "        vertical-align: middle;\n",
       "    }\n",
       "\n",
       "    .dataframe tbody tr th {\n",
       "        vertical-align: top;\n",
       "    }\n",
       "\n",
       "    .dataframe thead th {\n",
       "        text-align: right;\n",
       "    }\n",
       "</style>\n",
       "<table border=\"1\" class=\"dataframe\">\n",
       "  <thead>\n",
       "    <tr style=\"text-align: right;\">\n",
       "      <th></th>\n",
       "      <th>Brats17ID</th>\n",
       "      <th>Age</th>\n",
       "      <th>Survival</th>\n",
       "    </tr>\n",
       "  </thead>\n",
       "  <tbody>\n",
       "    <tr>\n",
       "      <th>0</th>\n",
       "      <td>Brats17_TCIA_167_1</td>\n",
       "      <td>74.907</td>\n",
       "      <td>153</td>\n",
       "    </tr>\n",
       "    <tr>\n",
       "      <th>1</th>\n",
       "      <td>Brats17_TCIA_242_1</td>\n",
       "      <td>66.479</td>\n",
       "      <td>147</td>\n",
       "    </tr>\n",
       "    <tr>\n",
       "      <th>2</th>\n",
       "      <td>Brats17_TCIA_319_1</td>\n",
       "      <td>64.860</td>\n",
       "      <td>254</td>\n",
       "    </tr>\n",
       "    <tr>\n",
       "      <th>3</th>\n",
       "      <td>Brats17_TCIA_469_1</td>\n",
       "      <td>63.899</td>\n",
       "      <td>519</td>\n",
       "    </tr>\n",
       "    <tr>\n",
       "      <th>4</th>\n",
       "      <td>Brats17_TCIA_218_1</td>\n",
       "      <td>57.345</td>\n",
       "      <td>346</td>\n",
       "    </tr>\n",
       "  </tbody>\n",
       "</table>\n",
       "</div>"
      ],
      "text/plain": [
       "            Brats17ID     Age  Survival\n",
       "0  Brats17_TCIA_167_1  74.907       153\n",
       "1  Brats17_TCIA_242_1  66.479       147\n",
       "2  Brats17_TCIA_319_1  64.860       254\n",
       "3  Brats17_TCIA_469_1  63.899       519\n",
       "4  Brats17_TCIA_218_1  57.345       346"
      ]
     },
     "execution_count": 41,
     "metadata": {},
     "output_type": "execute_result"
    }
   ],
   "source": [
    "df = pd.read_csv(data_directory + 'survival_data.csv')\n",
    "df.head()"
   ]
  },
  {
   "cell_type": "code",
   "execution_count": 42,
   "metadata": {},
   "outputs": [
    {
     "data": {
      "text/plain": [
       "(163, 3)"
      ]
     },
     "execution_count": 42,
     "metadata": {},
     "output_type": "execute_result"
    }
   ],
   "source": [
    "df.shape"
   ]
  },
  {
   "cell_type": "markdown",
   "metadata": {},
   "source": [
    "# Image dataset\n",
    "#### T1, T1Gd, T2, FLAIR modalities + Segmentation mask of tumor "
   ]
  },
  {
   "cell_type": "code",
   "execution_count": 68,
   "metadata": {},
   "outputs": [],
   "source": [
    "def imshow(vol,title:str, ax=None):\n",
    "    vol = sitk.GetArrayFromImage(vol)\n",
    "    if ax:\n",
    "        ax.imshow(vol[len(vol) // 2], cmap = 'gray')\n",
    "        ax.axis('off')\n",
    "        ax.set_title(title)\n",
    "        \n",
    "    \n",
    "def imshow_slice(vol,slic,title:str):\n",
    "    vol = sitk.GetArrayFromImage(vol)\n",
    "    plt.figure()\n",
    "    plt.imshow(vol[slic], cmap = 'gray')\n",
    "    plt.axis('off')\n",
    "    plt.title(title)\n",
    "    \n",
    "def show_mid_slice(vol,title):\n",
    "    plt.imshow(vol[len(vol) // 2], cmap = 'gray')\n",
    "    plt.axis('off')\n",
    "    plt.title(title)"
   ]
  },
  {
   "cell_type": "code",
   "execution_count": 49,
   "metadata": {},
   "outputs": [
    {
     "name": "stdout",
     "output_type": "stream",
     "text": [
      "Number of training samples:  285\n",
      "Number of validation samples:  47\n",
      "Number of testing samples:  147\n"
     ]
    }
   ],
   "source": [
    "print('Number of training samples: ',len(os.listdir(train_directory + 'HGG')) + len(os.listdir(train_directory + 'LGG')))\n",
    "print('Number of validation samples: ',len(os.listdir(valid_directory)))\n",
    "print('Number of testing samples: ',len(os.listdir(test_directory )))"
   ]
  },
  {
   "cell_type": "markdown",
   "metadata": {},
   "source": [
    "#### Read images with library SimpleITK"
   ]
  },
  {
   "cell_type": "code",
   "execution_count": 76,
   "metadata": {},
   "outputs": [],
   "source": [
    "sitk_t1 = sitk.ReadImage(os.path.join(data_directory , 'HGG/Brats17_2013_10_1/Brats17_2013_10_1_t1.nii.gz'), sitk.sitkFloat32)\n",
    "sitk_t1ce = sitk.ReadImage(os.path.join(data_directory , 'HGG/Brats17_2013_10_1/Brats17_2013_10_1_t1ce.nii.gz'), sitk.sitkFloat32)\n",
    "sitk_t2 = sitk.ReadImage(os.path.join(data_directory , 'HGG/Brats17_2013_10_1/Brats17_2013_10_1_t2.nii.gz'), sitk.sitkFloat32)\n",
    "sitk_flair = sitk.ReadImage(os.path.join(data_directory , 'HGG/Brats17_2013_10_1/Brats17_2013_10_1_flair.nii.gz'), sitk.sitkFloat32)\n",
    "sitk_seg = sitk.ReadImage(os.path.join(data_directory , 'HGG/Brats17_2013_10_1/Brats17_2013_10_1_seg.nii.gz'), sitk.sitkFloat32)"
   ]
  },
  {
   "cell_type": "code",
   "execution_count": 78,
   "metadata": {},
   "outputs": [
    {
     "data": {
      "image/png": "[encoded data removed]",
      "text/plain": [
       "<Figure size 1080x360 with 5 Axes>"
      ]
     },
     "metadata": {
      "needs_background": "light"
     },
     "output_type": "display_data"
    }
   ],
   "source": [
    "fig, axs = plt.subplots(1, 5, figsize=(15, 5))\n",
    "imshow(sitk_t1, \"t1\",axs[0])\n",
    "imshow(sitk_t1ce, \"t1ce\",axs[1])\n",
    "imshow(sitk_t2, \"t2\",axs[2])\n",
    "imshow(sitk_flair, \"flair\", axs[3])\n",
    "imshow(sitk_seg, \"seg\", axs[4])"
   ]
  },
  {
   "cell_type": "markdown",
   "metadata": {},
   "source": [
    "Samples of all modalitis. "
   ]
  },
  {
   "cell_type": "markdown",
   "metadata": {},
   "source": [
    "#### Size of each image"
   ]
  },
  {
   "cell_type": "code",
   "execution_count": 80,
   "metadata": {},
   "outputs": [
    {
     "name": "stdout",
     "output_type": "stream",
     "text": [
      "(155, 240, 240)\n",
      "(155, 240, 240)\n",
      "(155, 240, 240)\n",
      "(155, 240, 240)\n",
      "(155, 240, 240)\n"
     ]
    }
   ],
   "source": [
    "print(sitk.GetArrayFromImage(sitk_seg).shape)\n",
    "print(sitk.GetArrayFromImage(sitk_t1).shape)\n",
    "print(sitk.GetArrayFromImage(sitk_t1ce).shape)\n",
    "print(sitk.GetArrayFromImage(sitk_t2).shape)\n",
    "print(sitk.GetArrayFromImage(sitk_flair).shape)"
   ]
  },
  {
   "cell_type": "markdown",
   "metadata": {},
   "source": [
    "#### Distributions of pixel intensity"
   ]
  },
  {
   "cell_type": "code",
   "execution_count": 92,
   "metadata": {},
   "outputs": [
    {
     "data": {
      "image/png": "[encoded data removed]",
      "text/plain": [
       "<Figure size 1152x720 with 6 Axes>"
      ]
     },
     "metadata": {
      "needs_background": "light"
     },
     "output_type": "display_data"
    }
   ],
   "source": [
    "def histogram(ax, image, title):\n",
    "    vol = sitk.GetArrayFromImage(image)\n",
    "    ax.hist(vol[vol > 0].flatten(), bins=100);\n",
    "    ax.set_title(title)\n",
    "\n",
    "fig, axs = plt.subplots(2, 3, figsize=(16, 10))\n",
    "histogram(axs[0][0],sitk_t1, \"t1\")\n",
    "histogram(axs[0][1],sitk_t1ce, \"t1ce\")\n",
    "histogram(axs[0][2],sitk_t2, \"t2\")\n",
    "histogram(axs[1][0],sitk_flair, \"flair\")\n",
    "histogram(axs[1][1],sitk_seg, \"seg\")"
   ]
  },
  {
   "cell_type": "markdown",
   "metadata": {},
   "source": [
    "### Number of pixels in \n",
    "Annotations\n",
    "* GD-enhancing tumor (ET — label 4)\n",
    "* Peritumoral edema (ED — label 2)\n",
    "* the necrotic and non-enhancing tumor core (NCR/NET — label 1)"
   ]
  },
  {
   "cell_type": "code",
   "execution_count": 104,
   "metadata": {},
   "outputs": [],
   "source": [
    "seg_image_names = os.listdir(train_directory + 'HGG')"
   ]
  },
  {
   "cell_type": "code",
   "execution_count": 111,
   "metadata": {},
   "outputs": [
    {
     "name": "stdout",
     "output_type": "stream",
     "text": [
      "Counter({0: 8875102, 2: 46780, 4: 4951, 1: 1167})\n",
      "Counter({0: 8901500, 4: 9563, 2: 9070, 1: 7867})\n",
      "Counter({0: 8907124, 2: 7466, 1: 6878, 4: 6532})\n",
      "Counter({0: 8840676, 2: 52794, 1: 18358, 4: 16172})\n",
      "Counter({0: 8884536, 2: 32904, 4: 6688, 1: 3872})\n",
      "Counter({0: 8907513, 2: 15607, 4: 4467, 1: 413})\n",
      "Counter({0: 8744906, 2: 106834, 4: 50901, 1: 25359})\n",
      "Counter({0: 8827242, 2: 86045, 1: 7491, 4: 7222})\n",
      "Counter({0: 8805266, 2: 58885, 1: 37590, 4: 26259})\n",
      "Counter({0: 8897346, 2: 18725, 4: 9619, 1: 2310})\n",
      "Counter({0: 8764388, 4: 79560, 2: 57398, 1: 26654})\n",
      "Counter({0: 8888589, 2: 32237, 4: 4321, 1: 2853})\n",
      "Counter({0: 8898193, 2: 26076, 4: 2998, 1: 733})\n",
      "Counter({0: 8717673, 2: 133618, 4: 42366, 1: 34343})\n",
      "Counter({0: 8867644, 1: 21996, 2: 21263, 4: 17097})\n",
      "Counter({0: 8897510, 2: 19594, 4: 8609, 1: 2287})\n",
      "Counter({0: 8845220, 1: 35661, 4: 32372, 2: 14747})\n",
      "Counter({0: 8751944, 1: 76834, 2: 60217, 4: 39005})\n",
      "Counter({0: 8777195, 4: 87753, 2: 47101, 1: 15951})\n",
      "Counter({0: 8832609, 2: 66878, 4: 25236, 1: 3277})\n",
      "Counter({0: 8816276, 2: 53050, 4: 31485, 1: 27189})\n",
      "Counter({0: 8759254, 2: 131242, 1: 31605, 4: 5899})\n",
      "Counter({0: 8816688, 4: 61113, 2: 28795, 1: 21404})\n",
      "Counter({0: 8805071, 2: 80426, 4: 26938, 1: 15565})\n",
      "Counter({0: 8747382, 2: 145705, 4: 23676, 1: 11237})\n",
      "Counter({0: 8820672, 2: 65653, 4: 34538, 1: 7137})\n",
      "Counter({0: 8876147, 2: 32835, 4: 12826, 1: 6192})\n",
      "Counter({0: 8877265, 4: 21184, 2: 18410, 1: 11141})\n",
      "Counter({0: 8758082, 2: 112410, 4: 47182, 1: 10326})\n",
      "Counter({0: 8828376, 1: 39266, 4: 38724, 2: 21634})\n",
      "Counter({0: 8861198, 4: 35019, 2: 30118, 1: 1665})\n",
      "Counter({0: 8759813, 2: 123063, 4: 38840, 1: 6284})\n",
      "Counter({0: 8859882, 2: 37481, 4: 18221, 1: 12416})\n",
      "Counter({0: 8845079, 2: 62021, 4: 17626, 1: 3274})\n",
      "Counter({0: 8836427, 2: 46588, 4: 24430, 1: 20555})\n",
      "Counter({0: 8872636, 4: 25128, 2: 21364, 1: 8872})\n",
      "Counter({0: 8854563, 2: 36528, 1: 19476, 4: 17433})\n",
      "Counter({0: 8891142, 2: 31189, 4: 3003, 1: 2666})\n",
      "Counter({0: 8870832, 2: 37895, 4: 15114, 1: 4159})\n",
      "Counter({0: 8761860, 2: 98746, 4: 36506, 1: 30888})\n",
      "Counter({0: 8770251, 1: 97830, 2: 47925, 4: 11994})\n",
      "Counter({0: 8869183, 2: 37067, 4: 20160, 1: 1590})\n",
      "Counter({0: 8789949, 2: 53697, 4: 52126, 1: 32228})\n",
      "Counter({0: 8807326, 1: 57655, 2: 45203, 4: 17816})\n",
      "Counter({0: 8911252, 2: 14046, 4: 2642, 1: 60})\n",
      "Counter({0: 8883418, 2: 37588, 4: 6473, 1: 521})\n",
      "Counter({0: 8845265, 2: 50571, 4: 20437, 1: 11727})\n",
      "Counter({0: 8779970, 4: 58416, 2: 54288, 1: 35326})\n",
      "Counter({0: 8738989, 2: 164048, 4: 15211, 1: 9752})\n",
      "Counter({0: 8836354, 2: 74456, 1: 10482, 4: 6708})\n",
      "Counter({0: 8721866, 4: 111250, 2: 85913, 1: 8971})\n",
      "Counter({0: 8830788, 2: 50981, 4: 28207, 1: 18024})\n",
      "Counter({0: 8838484, 2: 76205, 4: 9371, 1: 3940})\n",
      "Counter({0: 8723758, 2: 130784, 4: 44531, 1: 28927})\n",
      "Counter({0: 8710620, 2: 109935, 1: 64066, 4: 43379})\n",
      "Counter({0: 8822148, 2: 59124, 1: 42876, 4: 3852})\n",
      "Counter({0: 8778653, 2: 113095, 4: 19840, 1: 16412})\n",
      "Counter({0: 8671125, 2: 140935, 4: 67135, 1: 48805})\n",
      "Counter({0: 8771394, 2: 88963, 4: 58556, 1: 9087})\n",
      "Counter({0: 8854173, 2: 59575, 4: 10910, 1: 3342})\n",
      "Counter({0: 8903045, 2: 21091, 4: 2830, 1: 1034})\n",
      "Counter({0: 8826584, 2: 67089, 1: 19169, 4: 15158})\n",
      "Counter({0: 8798159, 2: 70998, 4: 50084, 1: 8759})\n",
      "Counter({0: 8700874, 2: 156055, 4: 48062, 1: 23009})\n",
      "Counter({0: 8885796, 2: 23177, 4: 10595, 1: 8432})\n",
      "Counter({0: 8800188, 1: 48610, 2: 45798, 4: 33404})\n",
      "Counter({0: 8896891, 2: 26327, 4: 4439, 1: 343})\n",
      "Counter({0: 8797495, 2: 85940, 4: 30709, 1: 13856})\n",
      "Counter({0: 8835339, 4: 46904, 2: 33130, 1: 12627})\n",
      "Counter({0: 8764622, 4: 74539, 2: 61825, 1: 27014})\n",
      "Counter({0: 8796411, 2: 59483, 4: 54064, 1: 18042})\n",
      "Counter({0: 8894554, 2: 32078, 4: 1211, 1: 157})\n",
      "Counter({0: 8832373, 2: 67155, 4: 23272, 1: 5200})\n",
      "Counter({0: 8705001, 2: 160681, 4: 50410, 1: 11908})\n",
      "Counter({0: 8845977, 2: 69570, 4: 10930, 1: 1523})\n",
      "Counter({0: 8828141, 2: 74657, 4: 13224, 1: 11978})\n",
      "Counter({0: 8847604, 2: 52828, 4: 18255, 1: 9313})\n",
      "Counter({0: 8906037, 4: 10786, 2: 7553, 1: 3624})\n",
      "Counter({0: 8838811, 2: 40774, 4: 37598, 1: 10817})\n",
      "Counter({0: 8852915, 2: 57158, 1: 10590, 4: 7337})\n",
      "Counter({0: 8836249, 2: 74917, 4: 9523, 1: 7311})\n",
      "Counter({0: 8920715, 2: 3676, 1: 2139, 4: 1470})\n",
      "Counter({0: 8743280, 2: 84679, 1: 72190, 4: 27851})\n",
      "Counter({0: 8868754, 2: 43785, 4: 8665, 1: 6796})\n",
      "Counter({0: 8886876, 2: 23598, 4: 10937, 1: 6589})\n",
      "Counter({0: 8863653, 1: 24733, 2: 20156, 4: 19458})\n",
      "Counter({0: 8771238, 2: 79512, 4: 69134, 1: 8116})\n",
      "Counter({0: 8765603, 2: 135912, 4: 16998, 1: 9487})\n",
      "Counter({0: 8836440, 4: 39514, 2: 34935, 1: 17111})\n",
      "Counter({0: 8795829, 2: 87165, 4: 40450, 1: 4556})\n",
      "Counter({0: 8872870, 2: 44753, 4: 5774, 1: 4603})\n",
      "Counter({0: 8741739, 2: 129318, 4: 49748, 1: 7195})\n",
      "Counter({0: 8882882, 2: 43082, 4: 1695, 1: 341})\n",
      "Counter({0: 8727379, 2: 83517, 4: 65092, 1: 52012})\n",
      "Counter({0: 8839351, 2: 38607, 4: 31255, 1: 18787})\n",
      "Counter({0: 8901194, 2: 19290, 1: 7110, 4: 406})\n",
      "Counter({0: 8884203, 2: 23250, 1: 10734, 4: 9813})\n",
      "Counter({0: 8877817, 2: 38488, 4: 7959, 1: 3736})\n",
      "Counter({0: 8793729, 2: 94553, 1: 25826, 4: 13892})\n",
      "Counter({0: 8906016, 2: 10105, 4: 8813, 1: 3066})\n",
      "Counter({0: 8872219, 4: 26241, 2: 19635, 1: 9905})\n",
      "Counter({0: 8873042, 4: 27478, 2: 18711, 1: 8769})\n",
      "Counter({0: 8864939, 2: 53736, 4: 8219, 1: 1106})\n",
      "Counter({0: 8850722, 2: 55793, 4: 14157, 1: 7328})\n",
      "Counter({0: 8906385, 2: 12494, 1: 8413, 4: 708})\n",
      "Counter({0: 8827114, 2: 67269, 4: 23187, 1: 10430})\n",
      "Counter({0: 8861352, 2: 41235, 4: 16760, 1: 8653})\n",
      "Counter({0: 8891779, 2: 28408, 1: 4122, 4: 3691})\n",
      "Counter({0: 8740430, 2: 129871, 4: 36577, 1: 21122})\n",
      "Counter({0: 8802630, 2: 68807, 4: 43375, 1: 13188})\n",
      "Counter({0: 8795318, 2: 70436, 4: 32001, 1: 30245})\n",
      "Counter({0: 8817849, 2: 72888, 4: 19875, 1: 17388})\n",
      "Counter({0: 8898761, 2: 25778, 4: 2041, 1: 1420})\n",
      "Counter({0: 8802713, 2: 107610, 4: 9002, 1: 8675})\n",
      "Counter({0: 8773721, 2: 135262, 4: 13041, 1: 5976})\n",
      "Counter({0: 8860992, 2: 51299, 1: 9160, 4: 6549})\n",
      "Counter({0: 8716021, 2: 168794, 4: 27742, 1: 15443})\n",
      "Counter({0: 8830865, 2: 68609, 4: 22125, 1: 6401})\n",
      "Counter({0: 8861184, 2: 48139, 4: 17941, 1: 736})\n",
      "Counter({0: 8908850, 2: 17336, 4: 1412, 1: 402})\n",
      "Counter({0: 8773882, 2: 133610, 4: 14523, 1: 5985})\n",
      "Counter({0: 8883481, 2: 27590, 4: 9460, 1: 7469})\n",
      "Counter({0: 8830795, 2: 40539, 4: 40108, 1: 16558})\n",
      "Counter({0: 8784241, 2: 103826, 4: 35721, 1: 4212})\n",
      "Counter({0: 8882049, 2: 29065, 4: 10897, 1: 5989})\n",
      "Counter({0: 8847231, 2: 54524, 4: 17276, 1: 8969})\n",
      "Counter({0: 8866915, 2: 34894, 4: 21677, 1: 4514})\n",
      "Counter({0: 8865646, 2: 54960, 4: 5701, 1: 1693})\n",
      "Counter({0: 8860296, 2: 59056, 4: 6929, 1: 1719})\n",
      "Counter({0: 8832185, 1: 44601, 4: 35310, 2: 15904})\n",
      "Counter({0: 8864841, 2: 29143, 1: 19830, 4: 14186})\n",
      "Counter({0: 8820806, 2: 51852, 4: 30381, 1: 24961})\n",
      "Counter({0: 8768368, 2: 126649, 4: 30477, 1: 2506})\n",
      "Counter({0: 8797712, 2: 76498, 4: 29915, 1: 23875})\n",
      "Counter({0: 8858372, 4: 40616, 2: 21238, 1: 7774})\n",
      "Counter({0: 8741311, 2: 91667, 4: 79009, 1: 16013})\n",
      "Counter({0: 8755327, 4: 77776, 1: 48940, 2: 45957})\n",
      "Counter({0: 8817790, 2: 76402, 4: 29059, 1: 4749})\n",
      "Counter({0: 8904544, 2: 18041, 4: 5096, 1: 319})\n",
      "Counter({0: 8729308, 2: 126003, 4: 60991, 1: 11698})\n",
      "Counter({0: 8908925, 2: 9757, 4: 8858, 1: 460})\n",
      "Counter({0: 8805344, 2: 98301, 4: 16009, 1: 8346})\n",
      "Counter({0: 8778103, 2: 128427, 1: 12395, 4: 9075})\n",
      "Counter({0: 8852051, 2: 35154, 4: 20908, 1: 19887})\n",
      "Counter({0: 8847318, 2: 35416, 1: 26912, 4: 18354})\n",
      "Counter({0: 8824504, 2: 77096, 4: 15498, 1: 10902})\n",
      "Counter({0: 8766443, 2: 75286, 4: 68592, 1: 17679})\n",
      "Counter({0: 8847782, 2: 49555, 4: 18881, 1: 11782})\n",
      "Counter({0: 8861328, 2: 30670, 4: 25944, 1: 10058})\n",
      "Counter({0: 8913170, 2: 9079, 4: 5166, 1: 585})\n",
      "Counter({0: 8902082, 2: 23845, 4: 1172, 1: 901})\n",
      "Counter({0: 8785868, 2: 91981, 4: 30143, 1: 20008})\n",
      "Counter({0: 8742863, 1: 80489, 2: 69261, 4: 35387})\n",
      "Counter({0: 8853014, 2: 39147, 4: 29516, 1: 6323})\n",
      "Counter({0: 8896468, 2: 13852, 1: 9230, 4: 8450})\n",
      "Counter({0: 8844582, 2: 75783, 4: 6047, 1: 1588})\n",
      "Counter({0: 8882719, 2: 35186, 4: 9769, 1: 326})\n",
      "Counter({0: 8846153, 2: 44701, 4: 33532, 1: 3614})\n",
      "Counter({0: 8837260, 2: 75076, 4: 15090, 1: 574})\n",
      "Counter({0: 8915048, 2: 11711, 4: 1037, 1: 204})\n",
      "Counter({0: 8778396, 2: 87050, 1: 35617, 4: 26937})\n"
     ]
    },
    {
     "name": "stdout",
     "output_type": "stream",
     "text": [
      "Counter({0: 8881661, 2: 31804, 1: 10496, 4: 4039})\n",
      "Counter({0: 8828091, 2: 92012, 4: 6149, 1: 1748})\n",
      "Counter({0: 8890571, 2: 29723, 1: 5082, 4: 2624})\n",
      "Counter({0: 8884119, 2: 17488, 4: 14699, 1: 11694})\n",
      "Counter({0: 8917899, 4: 4518, 2: 3806, 1: 1777})\n",
      "Counter({0: 8907065, 4: 9281, 2: 5908, 1: 5746})\n",
      "Counter({0: 8868794, 2: 31713, 4: 25463, 1: 2030})\n",
      "Counter({0: 8808686, 2: 105764, 4: 10957, 1: 2593})\n",
      "Counter({0: 8849185, 2: 30607, 4: 24262, 1: 23946})\n",
      "Counter({0: 8752325, 1: 91299, 2: 56966, 4: 27410})\n",
      "Counter({0: 8788743, 2: 73741, 1: 45839, 4: 19677})\n",
      "Counter({0: 8788770, 2: 94456, 4: 24947, 1: 19827})\n",
      "Counter({0: 8857219, 4: 26417, 1: 22932, 2: 21432})\n",
      "Counter({0: 8806430, 2: 104016, 4: 13105, 1: 4449})\n",
      "Counter({0: 8773492, 2: 84003, 4: 45111, 1: 25394})\n",
      "Counter({0: 8800811, 2: 86107, 1: 28051, 4: 13031})\n",
      "Counter({0: 8809606, 2: 103227, 4: 8577, 1: 6590})\n",
      "Counter({0: 8836868, 2: 79370, 4: 8613, 1: 3149})\n",
      "Counter({0: 8854342, 2: 63100, 4: 7167, 1: 3391})\n",
      "Counter({0: 8885767, 2: 30952, 4: 9134, 1: 2147})\n",
      "Counter({0: 8840391, 2: 58882, 4: 22108, 1: 6619})\n",
      "Counter({0: 8810063, 2: 90387, 4: 18666, 1: 8884})\n",
      "Counter({0: 8854209, 2: 70526, 4: 3218, 1: 47})\n",
      "Counter({0: 8914541, 2: 10390, 4: 2287, 1: 782})\n",
      "Counter({0: 8889686, 2: 36268, 4: 1662, 1: 384})\n",
      "Counter({0: 8780214, 4: 72360, 1: 51737, 2: 23689})\n",
      "Counter({0: 8870925, 2: 29514, 4: 17506, 1: 10055})\n",
      "Counter({0: 8840807, 4: 36345, 1: 29581, 2: 21267})\n",
      "Counter({0: 8847426, 2: 42928, 4: 30995, 1: 6651})\n",
      "Counter({0: 8895949, 2: 23771, 4: 5973, 1: 2307})\n",
      "Counter({0: 8767990, 2: 125081, 1: 19298, 4: 15631})\n",
      "Counter({0: 8752354, 2: 112303, 4: 47361, 1: 15982})\n",
      "Counter({0: 8891658, 2: 34822, 4: 1357, 1: 163})\n",
      "Counter({0: 8754072, 2: 148264, 4: 21250, 1: 4414})\n",
      "Counter({0: 8874213, 2: 34086, 4: 12114, 1: 7587})\n",
      "Counter({0: 8756546, 2: 123059, 4: 28203, 1: 20192})\n",
      "Counter({0: 8870170, 2: 22544, 1: 22543, 4: 12743})\n",
      "Counter({0: 8888228, 2: 30215, 4: 6159, 1: 3398})\n",
      "Counter({0: 8827121, 2: 63649, 4: 26254, 1: 10976})\n",
      "Counter({0: 8790699, 2: 90806, 4: 26264, 1: 20231})\n",
      "Counter({0: 8765377, 2: 83088, 4: 63709, 1: 15826})\n",
      "Counter({0: 8915031, 2: 7981, 4: 4678, 1: 310})\n",
      "Counter({0: 8781506, 2: 76326, 1: 53224, 4: 16944})\n",
      "Counter({0: 8890172, 2: 25665, 4: 8994, 1: 3169})\n",
      "Counter({0: 8883202, 2: 40134, 4: 4539, 1: 125})\n",
      "Counter({0: 8903566, 2: 15723, 4: 4362, 1: 4349})\n",
      "Counter({0: 8851211, 2: 38338, 4: 22496, 1: 15955})\n",
      "Counter({0: 8752698, 2: 133063, 4: 36248, 1: 5991})\n",
      "Counter({0: 8907248, 2: 20191, 1: 455, 4: 106})\n"
     ]
    }
   ],
   "source": [
    "from collections import Counter\n",
    "for name in seg_image_names:\n",
    "    image = sitk.ReadImage(os.path.join(data_directory , 'HGG/' + name + '/'+ name +'_seg.nii.gz'), sitk.sitkInt32)\n",
    "    vol = sitk.GetArrayFromImage(image).flatten()\n",
    "    print(Counter(vol))"
   ]
  },
  {
   "cell_type": "code",
   "execution_count": null,
   "metadata": {},
   "outputs": [],
   "source": []
  }
 ],
 "metadata": {
  "kernelspec": {
   "display_name": "Python 3",
   "language": "python",
   "name": "python3"
  },
  "language_info": {
   "codemirror_mode": {
    "name": "ipython",
    "version": 3
   },
   "file_extension": ".py",
   "mimetype": "text/x-python",
   "name": "python",
   "nbconvert_exporter": "python",
   "pygments_lexer": "ipython3",
   "version": "3.6.8"
  }
 },
 "nbformat": 4,
 "nbformat_minor": 2
}
